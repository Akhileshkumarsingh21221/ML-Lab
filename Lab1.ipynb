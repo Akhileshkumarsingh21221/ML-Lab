{
  "nbformat": 4,
  "nbformat_minor": 0,
  "metadata": {
    "colab": {
      "provenance": [],
      "authorship_tag": "ABX9TyM12OTp5bNbyfblP3i6W3XC",
      "include_colab_link": true
    },
    "kernelspec": {
      "name": "python3",
      "display_name": "Python 3"
    },
    "language_info": {
      "name": "python"
    }
  },
  "cells": [
    {
      "cell_type": "markdown",
      "metadata": {
        "id": "view-in-github",
        "colab_type": "text"
      },
      "source": [
        "<a href=\"https://colab.research.google.com/github/Akhileshkumarsingh21221/ML-Lab/blob/main/Lab1.ipynb\" target=\"_parent\"><img src=\"https://colab.research.google.com/assets/colab-badge.svg\" alt=\"Open In Colab\"/></a>"
      ]
    },
    {
      "cell_type": "code",
      "execution_count": 2,
      "metadata": {
        "id": "QaF0WXU52JrZ"
      },
      "outputs": [],
      "source": [
        "import numpy as np"
      ]
    },
    {
      "cell_type": "code",
      "source": [
        "#creating empty array\n",
        "\n",
        "empty_array= np.array([])\n",
        "empty_array"
      ],
      "metadata": {
        "colab": {
          "base_uri": "https://localhost:8080/"
        },
        "id": "K2xAaMBh2Z5r",
        "outputId": "c3125619-b34d-48f5-fa9b-d32cdf87dadf"
      },
      "execution_count": 5,
      "outputs": [
        {
          "output_type": "execute_result",
          "data": {
            "text/plain": [
              "array([], dtype=float64)"
            ]
          },
          "metadata": {},
          "execution_count": 5
        }
      ]
    },
    {
      "cell_type": "code",
      "source": [
        "# creating 2d array\n",
        "\n",
        "two_d_array1=np.array([[1,2,3],[4,5,6],[7.,8,9]])\n",
        "two_d_array1"
      ],
      "metadata": {
        "colab": {
          "base_uri": "https://localhost:8080/"
        },
        "id": "cffeMTwA201d",
        "outputId": "09c041eb-76bc-4e9d-8191-b253ae34ecb4"
      },
      "execution_count": 17,
      "outputs": [
        {
          "output_type": "execute_result",
          "data": {
            "text/plain": [
              "array([[1., 2., 3.],\n",
              "       [4., 5., 6.],\n",
              "       [7., 8., 9.]])"
            ]
          },
          "metadata": {},
          "execution_count": 17
        }
      ]
    },
    {
      "cell_type": "code",
      "source": [
        "# 25 random number geeneration\n",
        "\n",
        "random_25_num=np.random.rand(25)\n",
        "print(random_25_num)\n",
        "print('\\n')\n",
        "random_25_num_int=np.random.randint(25)\n",
        "print(random_25_num_int)"
      ],
      "metadata": {
        "colab": {
          "base_uri": "https://localhost:8080/"
        },
        "id": "9-7-B12N3e65",
        "outputId": "dc6a6630-3dc5-485a-a8bf-ddf76d57165d"
      },
      "execution_count": 34,
      "outputs": [
        {
          "output_type": "stream",
          "name": "stdout",
          "text": [
            "[0.94187901 0.29265751 0.91615732 0.62602236 0.57083448 0.30601706\n",
            " 0.46714669 0.74611432 0.23917481 0.76336817 0.85230608 0.33026976\n",
            " 0.45674013 0.12121582 0.09267017 0.74418269 0.69539096 0.9490564\n",
            " 0.84860918 0.28376426 0.67674859 0.95667901 0.99023224 0.15728775\n",
            " 0.45721919]\n",
            "\n",
            "\n",
            "24\n"
          ]
        }
      ]
    },
    {
      "cell_type": "code",
      "source": [
        "# Find Dot product of two arrays\n",
        "two_d_array2=np.array([[11,12,13],[14,15,16],[17,18,19]])\n",
        "\n",
        "dot_product=np.dot(two_d_array1,two_d_array2.T)\n",
        "dot_product\n"
      ],
      "metadata": {
        "colab": {
          "base_uri": "https://localhost:8080/"
        },
        "id": "jKsMtB7M4Ebj",
        "outputId": "06f8bc25-8266-4a7c-c17d-968a56437e4f"
      },
      "execution_count": 19,
      "outputs": [
        {
          "output_type": "execute_result",
          "data": {
            "text/plain": [
              "array([[ 74.,  92., 110.],\n",
              "       [182., 227., 272.],\n",
              "       [290., 362., 434.]])"
            ]
          },
          "metadata": {},
          "execution_count": 19
        }
      ]
    },
    {
      "cell_type": "code",
      "source": [
        "array3=np.array([[3, 7, 1],\n",
        "[10, 3, 2],\n",
        "[5, 6, 7]\n",
        "])"
      ],
      "metadata": {
        "id": "VszarTR95rvw"
      },
      "execution_count": 21,
      "outputs": []
    },
    {
      "cell_type": "code",
      "source": [
        "array3"
      ],
      "metadata": {
        "colab": {
          "base_uri": "https://localhost:8080/"
        },
        "id": "YdXi5xmY6WUY",
        "outputId": "1bf6e752-294c-4705-b909-22b62b360c90"
      },
      "execution_count": 22,
      "outputs": [
        {
          "output_type": "execute_result",
          "data": {
            "text/plain": [
              "array([[ 3,  7,  1],\n",
              "       [10,  3,  2],\n",
              "       [ 5,  6,  7]])"
            ]
          },
          "metadata": {},
          "execution_count": 22
        }
      ]
    },
    {
      "cell_type": "code",
      "source": [
        "sorted_array3_col=np.sort(array3,axis=0)"
      ],
      "metadata": {
        "id": "4vo8FdLT6cet"
      },
      "execution_count": 23,
      "outputs": []
    },
    {
      "cell_type": "code",
      "source": [
        "sorted_array3_row=np.sort(array3,axis=1)\n",
        "sorted_array3_row"
      ],
      "metadata": {
        "colab": {
          "base_uri": "https://localhost:8080/"
        },
        "id": "qcOiCfNJ6s_g",
        "outputId": "5b79cf57-f876-4b35-fd9f-5b3ec2c5cc2b"
      },
      "execution_count": 26,
      "outputs": [
        {
          "output_type": "execute_result",
          "data": {
            "text/plain": [
              "array([[ 1,  3,  7],\n",
              "       [ 2,  3, 10],\n",
              "       [ 5,  6,  7]])"
            ]
          },
          "metadata": {},
          "execution_count": 26
        }
      ]
    },
    {
      "cell_type": "code",
      "source": [
        "sorted_as_wholearray3=np.sort(array3)\n",
        "sorted_as_wholearray3"
      ],
      "metadata": {
        "colab": {
          "base_uri": "https://localhost:8080/"
        },
        "id": "FVEJS52-6yng",
        "outputId": "bc093af8-a69d-4e79-8ae2-fdc334420ffe"
      },
      "execution_count": 28,
      "outputs": [
        {
          "output_type": "execute_result",
          "data": {
            "text/plain": [
              "array([[ 1,  3,  7],\n",
              "       [ 2,  3, 10],\n",
              "       [ 5,  6,  7]])"
            ]
          },
          "metadata": {},
          "execution_count": 28
        }
      ]
    },
    {
      "cell_type": "code",
      "source": [
        "list1=np.array([1,2,3,4])\n",
        "list2=np.array([1,2,3,4])\n",
        "list3=np.array([1,2,3,4])"
      ],
      "metadata": {
        "id": "9722WgQw7VQV"
      },
      "execution_count": 29,
      "outputs": []
    },
    {
      "cell_type": "code",
      "source": [
        "print(list1)\n",
        "print(list2)\n",
        "print(list3)"
      ],
      "metadata": {
        "colab": {
          "base_uri": "https://localhost:8080/"
        },
        "id": "LUADy5OK75xF",
        "outputId": "245f638f-da15-49d0-8339-962854a0954a"
      },
      "execution_count": 31,
      "outputs": [
        {
          "output_type": "stream",
          "name": "stdout",
          "text": [
            "[1 2 3 4]\n",
            "[1 2 3 4]\n",
            "[1 2 3 4]\n"
          ]
        }
      ]
    },
    {
      "cell_type": "code",
      "source": [
        "avg1=np.average(list1)"
      ],
      "metadata": {
        "id": "nm-ima3d80GL"
      },
      "execution_count": 41,
      "outputs": []
    },
    {
      "cell_type": "code",
      "source": [
        "avg1"
      ],
      "metadata": {
        "colab": {
          "base_uri": "https://localhost:8080/"
        },
        "id": "VhYWItCj868u",
        "outputId": "33eb417f-36c7-4079-879f-cf35789ad249"
      },
      "execution_count": 37,
      "outputs": [
        {
          "output_type": "execute_result",
          "data": {
            "text/plain": [
              "2.5"
            ]
          },
          "metadata": {},
          "execution_count": 37
        }
      ]
    },
    {
      "cell_type": "code",
      "source": [
        "# Make a list of 3 numpy arrays and find the mean of all the numpy arrays and output them as a list\n",
        "\n",
        "list1=np.array([1,2,3,4])\n",
        "list2=np.array([1,2,3,4])\n",
        "list3=np.array([1,2,3,4])\n",
        "print(list1)\n",
        "print(list2)\n",
        "print(list3)\n",
        "avg1=np.average(list1)\n",
        "avg2=np.average(list2)\n",
        "avg3=np.average(list3)\n",
        "avg=[avg1,avg2,avg3]\n",
        "print(avg)\n"
      ],
      "metadata": {
        "colab": {
          "base_uri": "https://localhost:8080/"
        },
        "id": "CcoYI48i9HIB",
        "outputId": "1d9d5eef-03e2-4a3a-88a7-b0d077007106"
      },
      "execution_count": 43,
      "outputs": [
        {
          "output_type": "stream",
          "name": "stdout",
          "text": [
            "[1 2 3 4]\n",
            "[1 2 3 4]\n",
            "[1 2 3 4]\n",
            "[2.5, 2.5, 2.5]\n"
          ]
        }
      ]
    },
    {
      "cell_type": "code",
      "source": [
        "# Make a numpy array containing the string 'PHP C# Python C Java C++' as the only element, then split it on the basis of spaces.\n",
        "\n",
        "arr=np.array([\"PHP C# Python C Java C++\"])\n",
        "print(arr)\n",
        "arr1=np.array(arr[0].split())\n",
        "print(arr1)\n"
      ],
      "metadata": {
        "colab": {
          "base_uri": "https://localhost:8080/"
        },
        "id": "weMhaKsR-AGR",
        "outputId": "ef411b3e-6938-4667-a3da-da7764ec1485"
      },
      "execution_count": 44,
      "outputs": [
        {
          "output_type": "stream",
          "name": "stdout",
          "text": [
            "['PHP C# Python C Java C++']\n",
            "['PHP' 'C#' 'Python' 'C' 'Java' 'C++']\n"
          ]
        }
      ]
    },
    {
      "cell_type": "code",
      "source": [],
      "metadata": {
        "id": "_CmFBwMg-g-A"
      },
      "execution_count": null,
      "outputs": []
    }
  ]
}